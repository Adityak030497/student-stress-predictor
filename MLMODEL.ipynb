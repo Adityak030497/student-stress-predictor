{
 "cells": [
  {
   "cell_type": "code",
   "execution_count": 85,
   "id": "bdc95bb4-8c88-47fa-9589-a055d2d92ad9",
   "metadata": {},
   "outputs": [],
   "source": [
    "import pandas as pd\n",
    "import numpy as np\n",
    "from sklearn.model_selection import train_test_split\n",
    "from sklearn.preprocessing import LabelEncoder\n",
    "from sklearn.ensemble import RandomForestRegressor\n",
    "from sklearn.metrics import mean_squared_error, r2_score\n",
    "import joblib"
   ]
  },
  {
   "cell_type": "code",
   "execution_count": 87,
   "id": "e3c1b0ff-5309-4ece-8e11-73c381118808",
   "metadata": {},
   "outputs": [
    {
     "name": "stdout",
     "output_type": "stream",
     "text": [
      "   sleep_hours sleep_quality  study_hours  attendance_percent  \\\n",
      "0     6.957076       Average     2.908580           70.610913   \n",
      "1     4.940024       Average     3.501950           83.711346   \n",
      "2     7.625677       Average     5.026387          100.000000   \n",
      "3     7.910847       Average     5.566285           81.271656   \n",
      "4     3.573447          Poor     3.749992           75.401523   \n",
      "\n",
      "   assignment_deadlines_per_week  exercise_hours junk_food_freq  \\\n",
      "0                              0        2.985007          Often   \n",
      "1                              3        0.000000           Rare   \n",
      "2                              4        3.486158          Often   \n",
      "3                              4        0.000000           Rare   \n",
      "4                              6        1.631350           Rare   \n",
      "\n",
      "   caffeine_intake  screen_time_hours  social_media_hours  family_support  \\\n",
      "0                2           7.479738            0.000000               1   \n",
      "1                7           4.663863            1.277995               3   \n",
      "2                1           7.566355            2.605115               4   \n",
      "3                6           8.555320            4.925666               2   \n",
      "4                7          10.384972            1.886291               4   \n",
      "\n",
      "   peer_pressure  financial_concerns  stress_score stress_level  \n",
      "0              4                   2          36.0       Medium  \n",
      "1              5                   2          58.0       Medium  \n",
      "2              2                   2          27.7          Low  \n",
      "3              5                   5          72.5         High  \n",
      "4              5                   4          83.3         High  \n"
     ]
    }
   ],
   "source": [
    "data = pd.read_csv(\"student_stress_dataset.csv\")\n",
    "print(data.head())"
   ]
  },
  {
   "cell_type": "code",
   "execution_count": 88,
   "id": "3d21e155-bce1-4beb-821e-40c78bca97de",
   "metadata": {},
   "outputs": [],
   "source": [
    "sleep_map = {\"Poor\":0, \"Average\":1, \"Good\":2}\n",
    "junk_map  = {\"Never\":0, \"Rare\":1, \"Sometimes\":2, \"Often\":3}"
   ]
  },
  {
   "cell_type": "code",
   "execution_count": 89,
   "id": "cc91ca38-9f42-402f-9301-56d9dd8a4807",
   "metadata": {},
   "outputs": [],
   "source": [
    "data[\"sleep_quality\"]   = data[\"sleep_quality\"].map(sleep_map)\n",
    "data[\"junk_food_freq\"]  = data[\"junk_food_freq\"].map(junk_map)"
   ]
  },
  {
   "cell_type": "code",
   "execution_count": 93,
   "id": "aa404311-26fa-4972-b4ce-f8c42b2b3662",
   "metadata": {},
   "outputs": [],
   "source": [
    "FEATURES = [\n",
    "    \"sleep_hours\", \"sleep_quality\", \"study_hours\", \"attendance_percent\",\n",
    "    \"assignment_deadlines_per_week\", \"exercise_hours\", \"caffeine_intake\",\n",
    "    \"screen_time_hours\", \"social_media_hours\", \"family_support\",\n",
    "    \"peer_pressure\", \"financial_concerns\", \"junk_food_freq\"\n",
    "]\n",
    "\n",
    "X = data[FEATURES]\n",
    "y = data[\"stress_score\"]"
   ]
  },
  {
   "cell_type": "code",
   "execution_count": 95,
   "id": "a810c589-173e-4258-8ce6-797491b384f1",
   "metadata": {},
   "outputs": [],
   "source": [
    "Xtr, Xte, ytr, yte = train_test_split(X, y, test_size=0.2, random_state=42)\n",
    "\n",
    "model = RandomForestRegressor(n_estimators=300, random_state=42)\n",
    "model.fit(Xtr, ytr)\n",
    "\n",
    "pred = model.predict(Xte)"
   ]
  },
  {
   "cell_type": "code",
   "execution_count": 96,
   "id": "9db70924-87ab-42ce-942b-5f9a3c5200a1",
   "metadata": {},
   "outputs": [
    {
     "name": "stdout",
     "output_type": "stream",
     "text": [
      "RMSE: 5.67  R²: 0.86\n"
     ]
    }
   ],
   "source": [
    "pred = model.predict(Xte)\n",
    "rmse = np.sqrt(((pred - yte)**2).mean())\n",
    "r2 = r2_score(yte, pred)\n",
    "print(f\"RMSE: {rmse:.2f}  R²: {r2:.2f}\")"
   ]
  },
  {
   "cell_type": "code",
   "execution_count": 58,
   "id": "301dc45b-349d-4e6e-b733-8ae47f27a792",
   "metadata": {},
   "outputs": [
    {
     "name": "stdout",
     "output_type": "stream",
     "text": [
      "Saved stress_model.pkl\n"
     ]
    }
   ],
   "source": [
    "joblib.dump({\"model\": model, \"features\": FEATURES, \"sleep_map\": sleep_map, \"junk_map\": junk_map},\n",
    "            \"stress_model.pkl\")\n",
    "print(\"Saved stress_model.pkl\")"
   ]
  }
 ],
 "metadata": {
  "kernelspec": {
   "display_name": "Python [conda env:base] *",
   "language": "python",
   "name": "conda-base-py"
  },
  "language_info": {
   "codemirror_mode": {
    "name": "ipython",
    "version": 3
   },
   "file_extension": ".py",
   "mimetype": "text/x-python",
   "name": "python",
   "nbconvert_exporter": "python",
   "pygments_lexer": "ipython3",
   "version": "3.12.7"
  }
 },
 "nbformat": 4,
 "nbformat_minor": 5
}
